{
 "cells": [
  {
   "cell_type": "markdown",
   "id": "3b58eeca",
   "metadata": {},
   "source": [
    "## **Import Libraries**"
   ]
  },
  {
   "cell_type": "code",
   "execution_count": 1,
   "id": "5c1e2f07",
   "metadata": {},
   "outputs": [],
   "source": [
    "import pandas as pd\n",
    "import numpy as np\n",
    "import matplotlib.pyplot as plt\n",
    "from sklearn.preprocessing import MinMaxScaler\n",
    "from keras.models import Sequential\n",
    "from keras.layers import *"
   ]
  },
  {
   "cell_type": "markdown",
   "id": "6279c6d8",
   "metadata": {},
   "source": [
    "## **Read Dataset**"
   ]
  },
  {
   "cell_type": "code",
   "execution_count": 2,
   "id": "28177925",
   "metadata": {},
   "outputs": [],
   "source": [
    "train_df = pd.read_csv('AAPL.xls')"
   ]
  },
  {
   "cell_type": "markdown",
   "id": "90a0852a",
   "metadata": {},
   "source": [
    "## **Exploratory data analysis**"
   ]
  },
  {
   "cell_type": "code",
   "execution_count": 3,
   "id": "ade8ff5f",
   "metadata": {},
   "outputs": [
    {
     "data": {
      "text/html": [
       "<div>\n",
       "<style scoped>\n",
       "    .dataframe tbody tr th:only-of-type {\n",
       "        vertical-align: middle;\n",
       "    }\n",
       "\n",
       "    .dataframe tbody tr th {\n",
       "        vertical-align: top;\n",
       "    }\n",
       "\n",
       "    .dataframe thead th {\n",
       "        text-align: right;\n",
       "    }\n",
       "</style>\n",
       "<table border=\"1\" class=\"dataframe\">\n",
       "  <thead>\n",
       "    <tr style=\"text-align: right;\">\n",
       "      <th></th>\n",
       "      <th>Date</th>\n",
       "      <th>Open</th>\n",
       "    </tr>\n",
       "  </thead>\n",
       "  <tbody>\n",
       "    <tr>\n",
       "      <th>0</th>\n",
       "      <td>1/2/2013</td>\n",
       "      <td>79.117142</td>\n",
       "    </tr>\n",
       "    <tr>\n",
       "      <th>1</th>\n",
       "      <td>1/3/2013</td>\n",
       "      <td>78.268570</td>\n",
       "    </tr>\n",
       "    <tr>\n",
       "      <th>2</th>\n",
       "      <td>1/4/2013</td>\n",
       "      <td>76.709999</td>\n",
       "    </tr>\n",
       "    <tr>\n",
       "      <th>3</th>\n",
       "      <td>1/7/2013</td>\n",
       "      <td>74.571426</td>\n",
       "    </tr>\n",
       "    <tr>\n",
       "      <th>4</th>\n",
       "      <td>1/8/2013</td>\n",
       "      <td>75.601425</td>\n",
       "    </tr>\n",
       "  </tbody>\n",
       "</table>\n",
       "</div>"
      ],
      "text/plain": [
       "       Date       Open\n",
       "0  1/2/2013  79.117142\n",
       "1  1/3/2013  78.268570\n",
       "2  1/4/2013  76.709999\n",
       "3  1/7/2013  74.571426\n",
       "4  1/8/2013  75.601425"
      ]
     },
     "execution_count": 3,
     "metadata": {},
     "output_type": "execute_result"
    }
   ],
   "source": [
    "train_df.head()"
   ]
  },
  {
   "cell_type": "code",
   "execution_count": 4,
   "id": "bac4a833",
   "metadata": {},
   "outputs": [
    {
     "name": "stdout",
     "output_type": "stream",
     "text": [
      "<class 'pandas.core.frame.DataFrame'>\n",
      "RangeIndex: 1259 entries, 0 to 1258\n",
      "Data columns (total 2 columns):\n",
      " #   Column  Non-Null Count  Dtype  \n",
      "---  ------  --------------  -----  \n",
      " 0   Date    1259 non-null   object \n",
      " 1   Open    1259 non-null   float64\n",
      "dtypes: float64(1), object(1)\n",
      "memory usage: 19.8+ KB\n"
     ]
    }
   ],
   "source": [
    "train_df.info()"
   ]
  },
  {
   "cell_type": "markdown",
   "id": "2ee53d0c",
   "metadata": {},
   "source": [
    "## **Data Preprocessing**"
   ]
  },
  {
   "cell_type": "code",
   "execution_count": 5,
   "id": "ae1a335e",
   "metadata": {},
   "outputs": [],
   "source": [
    "train_df_processed = train_df.iloc[:, 1:2].values"
   ]
  },
  {
   "cell_type": "code",
   "execution_count": 6,
   "id": "dfa62963",
   "metadata": {},
   "outputs": [
    {
     "data": {
      "text/plain": [
       "array([[ 79.117142],\n",
       "       [ 78.26857 ],\n",
       "       [ 76.709999],\n",
       "       ...,\n",
       "       [170.100006],\n",
       "       [171.      ],\n",
       "       [170.520004]])"
      ]
     },
     "execution_count": 6,
     "metadata": {},
     "output_type": "execute_result"
    }
   ],
   "source": [
    "train_df_processed"
   ]
  },
  {
   "cell_type": "code",
   "execution_count": 7,
   "id": "b26024f2",
   "metadata": {},
   "outputs": [],
   "source": [
    "scaler = MinMaxScaler(feature_range= (0,1))\n",
    "train_df_scaled = scaler.fit_transform(train_df_processed)"
   ]
  },
  {
   "cell_type": "code",
   "execution_count": 8,
   "id": "a1aa0a30",
   "metadata": {},
   "outputs": [
    {
     "data": {
      "text/plain": [
       "array([[0.19795893],\n",
       "       [0.19086893],\n",
       "       [0.17784673],\n",
       "       ...,\n",
       "       [0.95814041],\n",
       "       [0.96566005],\n",
       "       [0.96164958]])"
      ]
     },
     "execution_count": 8,
     "metadata": {},
     "output_type": "execute_result"
    }
   ],
   "source": [
    "train_df_scaled"
   ]
  },
  {
   "cell_type": "code",
   "execution_count": 9,
   "id": "e5081454",
   "metadata": {},
   "outputs": [
    {
     "data": {
      "text/plain": [
       "(1259, 1)"
      ]
     },
     "execution_count": 9,
     "metadata": {},
     "output_type": "execute_result"
    }
   ],
   "source": [
    "train_df_scaled.shape"
   ]
  },
  {
   "cell_type": "code",
   "execution_count": 10,
   "id": "a68baaa3",
   "metadata": {},
   "outputs": [],
   "source": [
    "x = []\n",
    "y = []\n",
    "\n",
    "for i in range(40, 1259):\n",
    "    x.append(train_df_scaled[i-40:i, 0])\n",
    "    y.append(train_df_scaled[i,0])"
   ]
  },
  {
   "cell_type": "code",
   "execution_count": 11,
   "id": "58415445",
   "metadata": {},
   "outputs": [],
   "source": [
    "x = np.array(x)"
   ]
  },
  {
   "cell_type": "code",
   "execution_count": 12,
   "id": "b9ffffa4",
   "metadata": {},
   "outputs": [],
   "source": [
    "y = np.array(y)"
   ]
  },
  {
   "cell_type": "code",
   "execution_count": 13,
   "id": "7900cd65",
   "metadata": {},
   "outputs": [
    {
     "data": {
      "text/plain": [
       "(1219, 40)"
      ]
     },
     "execution_count": 13,
     "metadata": {},
     "output_type": "execute_result"
    }
   ],
   "source": [
    "x.shape"
   ]
  },
  {
   "cell_type": "code",
   "execution_count": 14,
   "id": "b0b86236",
   "metadata": {},
   "outputs": [
    {
     "data": {
      "text/plain": [
       "(1219,)"
      ]
     },
     "execution_count": 14,
     "metadata": {},
     "output_type": "execute_result"
    }
   ],
   "source": [
    "y.shape"
   ]
  },
  {
   "cell_type": "code",
   "execution_count": 15,
   "id": "dce63a31",
   "metadata": {},
   "outputs": [],
   "source": [
    "x = np.reshape(x, (x.shape[0], x.shape[1], 1))"
   ]
  },
  {
   "cell_type": "code",
   "execution_count": 16,
   "id": "153b2d65",
   "metadata": {},
   "outputs": [
    {
     "data": {
      "text/plain": [
       "(1219, 40, 1)"
      ]
     },
     "execution_count": 16,
     "metadata": {},
     "output_type": "execute_result"
    }
   ],
   "source": [
    "x.shape"
   ]
  },
  {
   "cell_type": "markdown",
   "id": "c643d985",
   "metadata": {},
   "source": [
    "## **Model Building**"
   ]
  },
  {
   "cell_type": "code",
   "execution_count": 17,
   "id": "fe6de369",
   "metadata": {},
   "outputs": [],
   "source": [
    "model = Sequential()\n",
    "model.add(LSTM(300, return_sequences = True, input_shape = (x.shape[1],1)))\n",
    "model.add(Dropout(0.2))\n",
    "\n",
    "model.add(LSTM(100, return_sequences = True))\n",
    "model.add(Dropout(0.2))\n",
    "\n",
    "model.add(LSTM(100, return_sequences = True))\n",
    "model.add(Dropout(0.2))\n",
    "\n",
    "model.add(LSTM(100, return_sequences = False))\n",
    "model.add(Dropout(0.2))\n",
    "\n",
    "model.add(Dense(1))"
   ]
  },
  {
   "cell_type": "code",
   "execution_count": 18,
   "id": "c904c376",
   "metadata": {},
   "outputs": [
    {
     "name": "stdout",
     "output_type": "stream",
     "text": [
      "Model: \"sequential\"\n",
      "_________________________________________________________________\n",
      " Layer (type)                Output Shape              Param #   \n",
      "=================================================================\n",
      " lstm (LSTM)                 (None, 40, 300)           362400    \n",
      "                                                                 \n",
      " dropout (Dropout)           (None, 40, 300)           0         \n",
      "                                                                 \n",
      " lstm_1 (LSTM)               (None, 40, 100)           160400    \n",
      "                                                                 \n",
      " dropout_1 (Dropout)         (None, 40, 100)           0         \n",
      "                                                                 \n",
      " lstm_2 (LSTM)               (None, 40, 100)           80400     \n",
      "                                                                 \n",
      " dropout_2 (Dropout)         (None, 40, 100)           0         \n",
      "                                                                 \n",
      " lstm_3 (LSTM)               (None, 100)               80400     \n",
      "                                                                 \n",
      " dropout_3 (Dropout)         (None, 100)               0         \n",
      "                                                                 \n",
      " dense (Dense)               (None, 1)                 101       \n",
      "                                                                 \n",
      "=================================================================\n",
      "Total params: 683701 (2.61 MB)\n",
      "Trainable params: 683701 (2.61 MB)\n",
      "Non-trainable params: 0 (0.00 Byte)\n",
      "_________________________________________________________________\n"
     ]
    }
   ],
   "source": [
    "model.summary()"
   ]
  },
  {
   "cell_type": "markdown",
   "id": "53517b68",
   "metadata": {},
   "source": [
    "## **Compile and model fitting**"
   ]
  },
  {
   "cell_type": "code",
   "execution_count": 19,
   "id": "b2435098",
   "metadata": {},
   "outputs": [],
   "source": [
    "model.compile(optimizer = 'adam', loss = 'mean_squared_error')"
   ]
  },
  {
   "cell_type": "code",
   "execution_count": 20,
   "id": "5d716b12",
   "metadata": {
    "scrolled": true
   },
   "outputs": [
    {
     "name": "stdout",
     "output_type": "stream",
     "text": [
      "Epoch 1/50\n",
      "39/39 [==============================] - 26s 311ms/step - loss: 0.0448\n",
      "Epoch 2/50\n",
      "39/39 [==============================] - 13s 334ms/step - loss: 0.0039\n",
      "Epoch 3/50\n",
      "39/39 [==============================] - 15s 374ms/step - loss: 0.0039\n",
      "Epoch 4/50\n",
      "39/39 [==============================] - 14s 354ms/step - loss: 0.0031\n",
      "Epoch 5/50\n",
      "39/39 [==============================] - 14s 347ms/step - loss: 0.0038\n",
      "Epoch 6/50\n",
      "39/39 [==============================] - 14s 359ms/step - loss: 0.0031\n",
      "Epoch 7/50\n",
      "39/39 [==============================] - 14s 353ms/step - loss: 0.0027\n",
      "Epoch 8/50\n",
      "39/39 [==============================] - 14s 360ms/step - loss: 0.0027\n",
      "Epoch 9/50\n",
      "39/39 [==============================] - 14s 351ms/step - loss: 0.0035\n",
      "Epoch 10/50\n",
      "39/39 [==============================] - 14s 366ms/step - loss: 0.0025\n",
      "Epoch 11/50\n",
      "39/39 [==============================] - 13s 344ms/step - loss: 0.0029\n",
      "Epoch 12/50\n",
      "39/39 [==============================] - 13s 340ms/step - loss: 0.0023\n",
      "Epoch 13/50\n",
      "39/39 [==============================] - 13s 333ms/step - loss: 0.0021\n",
      "Epoch 14/50\n",
      "39/39 [==============================] - 13s 339ms/step - loss: 0.0023\n",
      "Epoch 15/50\n",
      "39/39 [==============================] - 13s 339ms/step - loss: 0.0021\n",
      "Epoch 16/50\n",
      "39/39 [==============================] - 13s 334ms/step - loss: 0.0022\n",
      "Epoch 17/50\n",
      "39/39 [==============================] - 14s 348ms/step - loss: 0.0028\n",
      "Epoch 18/50\n",
      "39/39 [==============================] - 15s 379ms/step - loss: 0.0028\n",
      "Epoch 19/50\n",
      "39/39 [==============================] - 13s 341ms/step - loss: 0.0019\n",
      "Epoch 20/50\n",
      "39/39 [==============================] - 14s 352ms/step - loss: 0.0027\n",
      "Epoch 21/50\n",
      "39/39 [==============================] - 13s 344ms/step - loss: 0.0019\n",
      "Epoch 22/50\n",
      "39/39 [==============================] - 14s 362ms/step - loss: 0.0018\n",
      "Epoch 23/50\n",
      "39/39 [==============================] - 13s 340ms/step - loss: 0.0020\n",
      "Epoch 24/50\n",
      "39/39 [==============================] - 14s 366ms/step - loss: 0.0020\n",
      "Epoch 25/50\n",
      "39/39 [==============================] - 13s 331ms/step - loss: 0.0016\n",
      "Epoch 26/50\n",
      "39/39 [==============================] - 12s 315ms/step - loss: 0.0018\n",
      "Epoch 27/50\n",
      "39/39 [==============================] - 12s 318ms/step - loss: 0.0018\n",
      "Epoch 28/50\n",
      "39/39 [==============================] - 12s 308ms/step - loss: 0.0018\n",
      "Epoch 29/50\n",
      "39/39 [==============================] - 12s 307ms/step - loss: 0.0018\n",
      "Epoch 30/50\n",
      "39/39 [==============================] - 12s 300ms/step - loss: 0.0018\n",
      "Epoch 31/50\n",
      "39/39 [==============================] - 12s 302ms/step - loss: 0.0019\n",
      "Epoch 32/50\n",
      "39/39 [==============================] - 12s 300ms/step - loss: 0.0016\n",
      "Epoch 33/50\n",
      "39/39 [==============================] - 12s 296ms/step - loss: 0.0017\n",
      "Epoch 34/50\n",
      "39/39 [==============================] - 12s 294ms/step - loss: 0.0015\n",
      "Epoch 35/50\n",
      "39/39 [==============================] - 12s 299ms/step - loss: 0.0015\n",
      "Epoch 36/50\n",
      "39/39 [==============================] - 12s 296ms/step - loss: 0.0014\n",
      "Epoch 37/50\n",
      "39/39 [==============================] - 12s 305ms/step - loss: 0.0016\n",
      "Epoch 38/50\n",
      "39/39 [==============================] - 13s 344ms/step - loss: 0.0018\n",
      "Epoch 39/50\n",
      "39/39 [==============================] - 14s 368ms/step - loss: 0.0018\n",
      "Epoch 40/50\n",
      "39/39 [==============================] - 14s 353ms/step - loss: 0.0016\n",
      "Epoch 41/50\n",
      "39/39 [==============================] - 14s 350ms/step - loss: 0.0015\n",
      "Epoch 42/50\n",
      "39/39 [==============================] - 13s 339ms/step - loss: 0.0015\n",
      "Epoch 43/50\n",
      "39/39 [==============================] - 13s 330ms/step - loss: 0.0014\n",
      "Epoch 44/50\n",
      "39/39 [==============================] - 13s 341ms/step - loss: 0.0017\n",
      "Epoch 45/50\n",
      "39/39 [==============================] - 13s 334ms/step - loss: 0.0014\n",
      "Epoch 46/50\n",
      "39/39 [==============================] - 13s 331ms/step - loss: 0.0014\n",
      "Epoch 47/50\n",
      "39/39 [==============================] - 13s 334ms/step - loss: 0.0015\n",
      "Epoch 48/50\n",
      "39/39 [==============================] - 14s 365ms/step - loss: 0.0014\n",
      "Epoch 49/50\n",
      "39/39 [==============================] - 14s 348ms/step - loss: 0.0013\n",
      "Epoch 50/50\n",
      "39/39 [==============================] - 14s 360ms/step - loss: 0.0014\n"
     ]
    },
    {
     "data": {
      "text/plain": [
       "<keras.src.callbacks.History at 0x190ef252d50>"
      ]
     },
     "execution_count": 20,
     "metadata": {},
     "output_type": "execute_result"
    }
   ],
   "source": [
    "model.fit(x,y, epochs = 50)"
   ]
  },
  {
   "cell_type": "markdown",
   "id": "71fb4c97",
   "metadata": {},
   "source": [
    "##  **Read the testing data**"
   ]
  },
  {
   "cell_type": "code",
   "execution_count": 22,
   "id": "aba2f9a8",
   "metadata": {},
   "outputs": [
    {
     "data": {
      "text/html": [
       "<div>\n",
       "<style scoped>\n",
       "    .dataframe tbody tr th:only-of-type {\n",
       "        vertical-align: middle;\n",
       "    }\n",
       "\n",
       "    .dataframe tbody tr th {\n",
       "        vertical-align: top;\n",
       "    }\n",
       "\n",
       "    .dataframe thead th {\n",
       "        text-align: right;\n",
       "    }\n",
       "</style>\n",
       "<table border=\"1\" class=\"dataframe\">\n",
       "  <thead>\n",
       "    <tr style=\"text-align: right;\">\n",
       "      <th></th>\n",
       "      <th>Date</th>\n",
       "      <th>Open</th>\n",
       "    </tr>\n",
       "  </thead>\n",
       "  <tbody>\n",
       "    <tr>\n",
       "      <th>0</th>\n",
       "      <td>1/2/2018</td>\n",
       "      <td>170.160004</td>\n",
       "    </tr>\n",
       "    <tr>\n",
       "      <th>1</th>\n",
       "      <td>1/3/2018</td>\n",
       "      <td>172.529999</td>\n",
       "    </tr>\n",
       "    <tr>\n",
       "      <th>2</th>\n",
       "      <td>1/4/2018</td>\n",
       "      <td>172.539993</td>\n",
       "    </tr>\n",
       "    <tr>\n",
       "      <th>3</th>\n",
       "      <td>1/5/2018</td>\n",
       "      <td>173.440002</td>\n",
       "    </tr>\n",
       "    <tr>\n",
       "      <th>4</th>\n",
       "      <td>1/8/2018</td>\n",
       "      <td>174.350006</td>\n",
       "    </tr>\n",
       "  </tbody>\n",
       "</table>\n",
       "</div>"
      ],
      "text/plain": [
       "       Date        Open\n",
       "0  1/2/2018  170.160004\n",
       "1  1/3/2018  172.529999\n",
       "2  1/4/2018  172.539993\n",
       "3  1/5/2018  173.440002\n",
       "4  1/8/2018  174.350006"
      ]
     },
     "execution_count": 22,
     "metadata": {},
     "output_type": "execute_result"
    }
   ],
   "source": [
    "testing_df = pd.read_csv('AAPL - Jan2018.xls')\n",
    "testing_df.head()"
   ]
  },
  {
   "cell_type": "code",
   "execution_count": 23,
   "id": "af3c781b",
   "metadata": {},
   "outputs": [
    {
     "data": {
      "text/plain": [
       "(20, 2)"
      ]
     },
     "execution_count": 23,
     "metadata": {},
     "output_type": "execute_result"
    }
   ],
   "source": [
    "testing_df.shape"
   ]
  },
  {
   "cell_type": "code",
   "execution_count": 24,
   "id": "1bb49756",
   "metadata": {},
   "outputs": [],
   "source": [
    "testing_df_processed = testing_df.iloc[:, 1:2].values"
   ]
  },
  {
   "cell_type": "code",
   "execution_count": 25,
   "id": "37268cdc",
   "metadata": {
    "scrolled": false
   },
   "outputs": [
    {
     "data": {
      "text/plain": [
       "array([[170.160004],\n",
       "       [172.529999],\n",
       "       [172.539993],\n",
       "       [173.440002],\n",
       "       [174.350006],\n",
       "       [174.550003],\n",
       "       [173.160004],\n",
       "       [174.589996],\n",
       "       [176.179993],\n",
       "       [177.899994],\n",
       "       [176.149994],\n",
       "       [179.369995],\n",
       "       [178.610001],\n",
       "       [177.300003],\n",
       "       [177.300003],\n",
       "       [177.25    ],\n",
       "       [174.509995],\n",
       "       [172.      ],\n",
       "       [170.160004],\n",
       "       [165.529999]])"
      ]
     },
     "execution_count": 25,
     "metadata": {},
     "output_type": "execute_result"
    }
   ],
   "source": [
    "testing_df_processed"
   ]
  },
  {
   "cell_type": "code",
   "execution_count": 26,
   "id": "428fc832",
   "metadata": {},
   "outputs": [],
   "source": [
    "total_df = pd.concat((train_df['Open'], testing_df['Open']), axis =0)"
   ]
  },
  {
   "cell_type": "code",
   "execution_count": 27,
   "id": "f4513b17",
   "metadata": {},
   "outputs": [],
   "source": [
    "test_inputs = total_df[len(total_df)- len(testing_df)- 40:].values"
   ]
  },
  {
   "cell_type": "code",
   "execution_count": 28,
   "id": "722f7f15",
   "metadata": {},
   "outputs": [],
   "source": [
    "test_inputs = test_inputs.reshape(-1,1)"
   ]
  },
  {
   "cell_type": "code",
   "execution_count": 29,
   "id": "4f707896",
   "metadata": {},
   "outputs": [
    {
     "data": {
      "text/plain": [
       "(60, 1)"
      ]
     },
     "execution_count": 29,
     "metadata": {},
     "output_type": "execute_result"
    }
   ],
   "source": [
    "test_inputs.shape"
   ]
  },
  {
   "cell_type": "code",
   "execution_count": 30,
   "id": "2fdcd521",
   "metadata": {},
   "outputs": [],
   "source": [
    "test_inputs = scaler.transform(test_inputs)"
   ]
  },
  {
   "cell_type": "code",
   "execution_count": 31,
   "id": "4b701113",
   "metadata": {},
   "outputs": [],
   "source": [
    "test_features = []\n",
    "for i in range(40,60):\n",
    "    test_features.append(test_inputs[i - 40 :i, 0])"
   ]
  },
  {
   "cell_type": "code",
   "execution_count": 32,
   "id": "cd249397",
   "metadata": {},
   "outputs": [],
   "source": [
    "test_features = np.array(test_features)\n",
    "test_features = np.reshape(test_features, (test_features.shape[0], test_features.shape[1], 1))"
   ]
  },
  {
   "cell_type": "code",
   "execution_count": 33,
   "id": "d8694b07",
   "metadata": {},
   "outputs": [
    {
     "data": {
      "text/plain": [
       "(20, 40, 1)"
      ]
     },
     "execution_count": 33,
     "metadata": {},
     "output_type": "execute_result"
    }
   ],
   "source": [
    "test_features.shape"
   ]
  },
  {
   "cell_type": "markdown",
   "id": "cdc639eb",
   "metadata": {},
   "source": [
    "## **Model Evaluation**"
   ]
  },
  {
   "cell_type": "code",
   "execution_count": 34,
   "id": "b1660d12",
   "metadata": {},
   "outputs": [
    {
     "name": "stdout",
     "output_type": "stream",
     "text": [
      "1/1 [==============================] - 2s 2s/step\n"
     ]
    }
   ],
   "source": [
    "prediction = model.predict(test_features)"
   ]
  },
  {
   "cell_type": "code",
   "execution_count": 35,
   "id": "307a727c",
   "metadata": {},
   "outputs": [
    {
     "data": {
      "text/plain": [
       "array([[0.943303  ],\n",
       "       [0.93618226],\n",
       "       [0.9325379 ],\n",
       "       [0.9331818 ],\n",
       "       [0.9377484 ],\n",
       "       [0.9450418 ],\n",
       "       [0.9532481 ],\n",
       "       [0.95986146],\n",
       "       [0.96392626],\n",
       "       [0.9662949 ],\n",
       "       [0.96891624],\n",
       "       [0.97214144],\n",
       "       [0.9769771 ],\n",
       "       [0.9830826 ],\n",
       "       [0.98868954],\n",
       "       [0.9922007 ],\n",
       "       [0.99294174],\n",
       "       [0.9900313 ],\n",
       "       [0.98276335],\n",
       "       [0.9713098 ]], dtype=float32)"
      ]
     },
     "execution_count": 35,
     "metadata": {},
     "output_type": "execute_result"
    }
   ],
   "source": [
    "prediction"
   ]
  },
  {
   "cell_type": "code",
   "execution_count": 36,
   "id": "f5c45f93",
   "metadata": {},
   "outputs": [],
   "source": [
    "prediction = scaler.inverse_transform(prediction)"
   ]
  },
  {
   "cell_type": "code",
   "execution_count": 37,
   "id": "15abf938",
   "metadata": {},
   "outputs": [
    {
     "data": {
      "text/plain": [
       "array([[168.32417],\n",
       "       [167.47192],\n",
       "       [167.03575],\n",
       "       [167.11282],\n",
       "       [167.65938],\n",
       "       [168.53229],\n",
       "       [169.51447],\n",
       "       [170.306  ],\n",
       "       [170.7925 ],\n",
       "       [171.07597],\n",
       "       [171.38972],\n",
       "       [171.77573],\n",
       "       [172.35449],\n",
       "       [173.08524],\n",
       "       [173.7563 ],\n",
       "       [174.17653],\n",
       "       [174.26523],\n",
       "       [173.91689],\n",
       "       [173.04703],\n",
       "       [171.6762 ]], dtype=float32)"
      ]
     },
     "execution_count": 37,
     "metadata": {},
     "output_type": "execute_result"
    }
   ],
   "source": [
    "prediction"
   ]
  },
  {
   "cell_type": "markdown",
   "id": "3e7f89c7",
   "metadata": {},
   "source": [
    "## **Visualization**"
   ]
  },
  {
   "cell_type": "code",
   "execution_count": 38,
   "id": "6a7a1404",
   "metadata": {},
   "outputs": [
    {
     "data": {
      "image/png": "[encoded data removed]",
      "text/plain": [
       "<Figure size 1000x600 with 1 Axes>"
      ]
     },
     "metadata": {},
     "output_type": "display_data"
    }
   ],
   "source": [
    "plt.figure(figsize = (10,6))\n",
    "plt.plot(testing_df_processed, color = 'blue', label = 'actual data')\n",
    "plt.plot(prediction, color = 'red', label = 'predicted values')\n",
    "plt.title('APPLE stock price prediction')\n",
    "plt.xlabel('Date')\n",
    "plt.ylabel('Apple stock price')\n",
    "plt.legend()\n",
    "plt.show()"
   ]
  },
  {
   "cell_type": "code",
   "execution_count": 40,
   "id": "68c49f9b",
   "metadata": {},
   "outputs": [],
   "source": [
    "model.save('apple_prediction.keras')"
   ]
  },
  {
   "cell_type": "code",
   "execution_count": null,
   "id": "be91393b",
   "metadata": {},
   "outputs": [],
   "source": []
  }
 ],
 "metadata": {
  "kernelspec": {
   "display_name": "Python 3 (ipykernel)",
   "language": "python",
   "name": "python3"
  },
  "language_info": {
   "codemirror_mode": {
    "name": "ipython",
    "version": 3
   },
   "file_extension": ".py",
   "mimetype": "text/x-python",
   "name": "python",
   "nbconvert_exporter": "python",
   "pygments_lexer": "ipython3",
   "version": "3.11.4"
  }
 },
 "nbformat": 4,
 "nbformat_minor": 5
}
